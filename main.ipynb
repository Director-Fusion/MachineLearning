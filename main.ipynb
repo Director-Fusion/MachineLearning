{
 "cells": [
  {
   "cell_type": "code",
   "execution_count": null,
   "id": "d18da50b-f87d-4f11-b02f-a7dcc812b826",
   "metadata": {},
   "outputs": [],
   "source": [
    "import numpy as np\n",
    "from sklearn.model_selection import train_test_split\n",
    "from sklearn.metrics import accuracy_score\n",
    "import tensorflow as tf\n",
    "from tensorflow import keras\n",
    "from tensorflow.keras import layers\n",
    "import pandas as pd\n",
    "from sklearn.preprocessing import StandardScaler\n",
    "from tensorflow.keras.regularizers import l2"
   ]
  },
  {
   "cell_type": "code",
   "execution_count": null,
   "id": "995884c2",
   "metadata": {},
   "outputs": [],
   "source": [
    "# Generate Data\n",
    "df_malicious = pd.read_csv('../DataSources/ParsedLogs/MALICIOUS_ALL.csv')\n",
    "df_mal_cols = df_malicious['Image']\n",
    "df_malicious[\"Label\"] = 1\n",
    "print(f\"Malicious Shape: {df_malicious.shape}\")\n",
    "\n",
    "df_benign = pd.read_csv('../DataSources/ParsedLogs/BENIGN_ALL.csv')\n",
    "df_benign[\"Label\"] = 0\n",
    "print(f\"Benign Shape: {df_benign.shape}\")\n",
    "\n",
    "# Downsample Benign Data\n",
    "df_benign = df_benign.sample(n = df_malicious.shape[0])\n",
    "\n",
    "# Concatenate Data\n",
    "df = pd.concat([df_malicious, df_benign])\n",
    "print(f\"Concatenated Shape: {df.shape}\")\n",
    "# Convert to Float\n",
    "# df = df.drop(labels = [\"TimeCreated\", \"SourceFile\", \"TargetUserDomain\", \"MachineName\"], axis = 1)\n",
    "# numeric_cols = df.select_dtypes(include=[np.number]).columns.tolist()\n",
    "# df[numeric_cols] = df[numeric_cols].astype(float)\n",
    "object_cols = df.select_dtypes(include=[\"object\"]).columns.tolist()\n",
    "for col in object_cols:\n",
    "    df[col] = df[col].astype('category').cat.codes\n",
    "scaler = StandardScaler()\n",
    "X = df\n",
    "y = df['Label'].values\n",
    "# y = df[\"Label\"]\n",
    "X = X.drop(labels = [\"Label\"], axis = 1)\n",
    "X = scaler.fit_transform(X)\n"
   ]
  },
  {
   "cell_type": "code",
   "execution_count": null,
   "id": "12b26470",
   "metadata": {},
   "outputs": [],
   "source": [
    "# Preprocess Code\n",
    "X_train, X_test, y_train, y_test = train_test_split(X, y, test_size=0.2, random_state=42)\n",
    "keras = tf.keras\n",
    "print(f\"X_train shape: {X_train.shape}\")\n",
    "print(f\"X_test shape: {X_test.shape}\")"
   ]
  },
  {
   "cell_type": "code",
   "execution_count": null,
   "id": "ab67cb20",
   "metadata": {},
   "outputs": [],
   "source": [
    "# Model Code\n",
    "model = tf.keras.models.Sequential([\n",
    "    tf.keras.layers.Conv1D(filters=32, kernel_size=2, activation=\"relu\", kernel_regularizer=tf.keras.regularizers.l2(0.01), input_shape=(X_train.shape[1], 1)),\n",
    "    tf.keras.layers.Conv1D(filters=32, kernel_size=2, activation=\"relu\", kernel_regularizer=tf.keras.regularizers.l2(0.01)),\n",
    "    tf.keras.layers.GlobalAveragePooling1D(), \n",
    "    tf.keras.layers.Dense(1, activation=\"sigmoid\")\n",
    "])\n",
    "optim = keras.optimizers.Adam(learning_rate=0.001)\n",
    "metrics = [\"accuracy\"]\n",
    "loss = tf.keras.losses.BinaryCrossentropy()\n",
    "\n",
    "model.compile(optimizer=optim, loss=loss, metrics=metrics)\n",
    "model.fit(X_train, y_train, epochs=10, shuffle=True)"
   ]
  },
  {
   "cell_type": "code",
   "execution_count": null,
   "id": "12a5ccfc",
   "metadata": {},
   "outputs": [],
   "source": [
    "# Evaluate Model\n",
    "loss, accuracy = model.evaluate(X_test, y_test, verbose=2)\n",
    "print(\"Accuracy\", accuracy)"
   ]
  },
  {
   "cell_type": "code",
   "execution_count": null,
   "id": "818f633c",
   "metadata": {},
   "outputs": [],
   "source": [
    "# Save Model\n",
    "model.save('models/model.h5')"
   ]
  },
  {
   "cell_type": "code",
   "execution_count": null,
   "id": "1b01a7d3",
   "metadata": {},
   "outputs": [],
   "source": [
    "import matplotlib.pyplot as plt\n",
    "from sklearn.metrics import confusion_matrix, ConfusionMatrixDisplay\n",
    "\n",
    "class estimator:\n",
    "    _estimator_type = \"\"\n",
    "    classes_ = []\n",
    "    def __init__(self, model, classes):\n",
    "        self.model = model\n",
    "        self._estimator_type = \"classifier\"\n",
    "        self.classes = classes\n",
    "    def predict(self, X):\n",
    "        y_prob = self.model.predict(X, verbose=False)\n",
    "        y_pred = (y_prob + 0.5).astype(int)\n",
    "        return y_pred\n",
    "\n",
    "def plot_confusion_matrix(y_test = [], predictions = [], labels = []):\n",
    "    classifier = estimator(model, labels)\n",
    "    \n",
    "    fig, ax = plt.subplots(figsize=(5,5))\n",
    "    disp = ConfusionMatrixDisplay.from_predictions(y_true=y_test, y_pred=predictions, display_labels=labels, normalize=\"true\", xticks_rotation=\"vertical\", cmap=\"Blues\", colorbar=False, values_format=\".2f\", ax=ax)\n",
    "    \n",
    "    plt.show()\n",
    "    \n",
    "labels = [\"Benign\", \"Malicious\"]\n",
    "predictions = (model.predict(X_test)+0.5).astype(int)\n",
    "plot_confusion_matrix(y_test, predictions=predictions, labels=labels)\n",
    "cm = confusion_matrix(y_test, predictions)\n",
    "print(cm)"
   ]
  },
  {
   "cell_type": "code",
   "execution_count": null,
   "id": "af31e337",
   "metadata": {},
   "outputs": [],
   "source": [
    "def save_human_readable_csv(df, filename, original_df_malicious, original_df_benign):\n",
    "    \"\"\"\n",
    "    Convert the dataframe back into a human-readable CSV file with the Labels column included.\n",
    "    \"\"\"\n",
    "    # Reverse the encoding of categorical columns\n",
    "    for col in object_cols:\n",
    "        df[col] = df[col].astype('category').cat.codes\n",
    "\n",
    "    # Map the labels back to their original values\n",
    "    df['Label'] = df['Label'].map({0: 'Benign', 1: 'Malicious'})\n",
    "\n",
    "    # Merge with original data to get cleartext\n",
    "    df_malicious = original_df_malicious.copy()\n",
    "    df_benign = original_df_benign.copy()\n",
    "    df_malicious[\"Label\"] = 'Malicious'\n",
    "    df_benign[\"Label\"] = 'Benign'\n",
    "    df_human_readable = pd.concat([df_malicious, df_benign])\n",
    "\n",
    "    # Save to CSV\n",
    "    df_human_readable.to_csv(filename, index=False)\n",
    "    print(f\"Data saved to {filename}\")\n",
    "\n",
    "# Save the human-readable CSV files\n",
    "save_human_readable_csv(df, 'human_readable_data.csv', df_malicious, df_benign)"
   ]
  },
  {
   "cell_type": "code",
   "execution_count": null,
   "id": "638c6f81",
   "metadata": {},
   "outputs": [
    {
     "name": "stderr",
     "output_type": "stream",
     "text": [
      "WARNING:absl:Compiled the loaded model, but the compiled metrics have yet to be built. `model.compile_metrics` will be empty until you train or evaluate the model.\n"
     ]
    },
    {
     "name": "stdout",
     "output_type": "stream",
     "text": [
      "\u001b[1m87/87\u001b[0m \u001b[32m━━━━━━━━━━━━━━━━━━━━\u001b[0m\u001b[37m\u001b[0m \u001b[1m0s\u001b[0m 929us/step\n"
     ]
    }
   ],
   "source": [
    "import pandas as pd\n",
    "import numpy as np\n",
    "import tensorflow as tf\n",
    "from sklearn.preprocessing import StandardScaler, LabelEncoder\n",
    "\n",
    "# Load the Model and Data\n",
    "model = keras.models.load_model('models/model.h5')\n",
    "\n",
    "# Generate Data\n",
    "df_original = pd.read_csv('../DataSources/ParsedLogs/GCFA-4688.csv')\n",
    "# df_original = pd.read_csv('../DataSources/ParsedLogs/GCFA-Sysmon.csv')\n",
    "df_cols = df_original[['Image', 'CommandLine', 'ParentProcess']].copy()\n",
    "\n",
    "# Convert to Float\n",
    "numeric_cols = df.select_dtypes(include=[np.number]).columns.tolist()\n",
    "df[numeric_cols] = df[numeric_cols].astype(float)\n",
    "object_cols = df.select_dtypes(include=[\"object\"]).columns.tolist()\n",
    "label_encoders = {}\n",
    "for col in df_cols.columns:\n",
    "    le = LabelEncoder()\n",
    "    df_cols[col] = le.fit_transform(df_cols[col])  # Convert to numeric\n",
    "    label_encoders[col] = le  # Store encoders in case needed later\n",
    "\n",
    "\n",
    "scaler = StandardScaler()\n",
    "X = scaler.fit_transform(df_cols)\n",
    "X = np.expand_dims(X, axis=-1)\n",
    "\n",
    "# Make predictions\n",
    "predictions = model.predict(X)\n",
    "predicted_labels = (predictions > 0.5).astype(int)\n",
    "\n",
    "# Add predictions to the original data\n",
    "df_original['Label'] = predicted_labels\n",
    "df_original['Label'] = df_original['Label'].map({0: 'Benign', 1: 'Malicious'})\n",
    "\n",
    "# Save the predictions to a CSV file with original logs\n",
    "df_original.to_csv('GCFA-Prediction.csv', index=False)"
   ]
  }
 ],
 "metadata": {
  "kernelspec": {
   "display_name": "Python 3",
   "language": "python",
   "name": "python3"
  },
  "language_info": {
   "codemirror_mode": {
    "name": "ipython",
    "version": 3
   },
   "file_extension": ".py",
   "mimetype": "text/x-python",
   "name": "python",
   "nbconvert_exporter": "python",
   "pygments_lexer": "ipython3",
   "version": "3.12.3"
  }
 },
 "nbformat": 4,
 "nbformat_minor": 5
}
